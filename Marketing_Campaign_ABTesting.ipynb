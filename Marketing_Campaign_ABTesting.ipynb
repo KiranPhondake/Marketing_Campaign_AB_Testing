{
 "cells": [
  {
   "cell_type": "markdown",
   "id": "0d97eeeb",
   "metadata": {},
   "source": [
    "# Business Problem\n",
    "\n",
    "As an analyst, our primary objective is to maximise the return on investment (ROI) for our clients' advertising campaigns.\n",
    "\n",
    "We have 2 campaigns, one on FB and other on Adwords and we need to dertemine which platform yields better results in terms of clicks, conversion and overall cost effectiveness.\n",
    "\n",
    "By identifying the most effective platform, we can allocate our resources more efficiently and optimise our advertising strategies to deliver better outcomes for our clients\n"
   ]
  },
  {
   "cell_type": "markdown",
   "id": "f7a0801d",
   "metadata": {},
   "source": [
    "<h3> Q1. which platform is better in terms of clicks, conversion and overall cost effectiveness. "
   ]
  },
  {
   "cell_type": "code",
   "execution_count": 1,
   "id": "a2be076e",
   "metadata": {},
   "outputs": [],
   "source": [
    "#importing libraries\n",
    "import numpy as np\n",
    "import pandas as pd\n",
    "import seaborn as sns\n",
    "import matplotlib.pyplot as plt\n",
    "import scipy.stats as st\n",
    "from sklearn.linear_model import LinearRegression\n",
    "from sklearn.metrics import r2_score, mean_squared_error\n",
    "from statsmodels.tsa.seasonal import seasonal_decompose\n",
    "from statsmodels.tsa.stattools import coint\n",
    "import warnings \n",
    "warnings.filterwarnings('ignore')"
   ]
  },
  {
   "cell_type": "code",
   "execution_count": 2,
   "id": "ccfd97c9",
   "metadata": {},
   "outputs": [],
   "source": [
    "#Loading Dataset\n",
    "df= pd.read_csv(\"marketing_campaign.csv\")"
   ]
  },
  {
   "cell_type": "code",
   "execution_count": 3,
   "id": "247aa73f",
   "metadata": {},
   "outputs": [
    {
     "data": {
      "text/html": [
       "<div>\n",
       "<style scoped>\n",
       "    .dataframe tbody tr th:only-of-type {\n",
       "        vertical-align: middle;\n",
       "    }\n",
       "\n",
       "    .dataframe tbody tr th {\n",
       "        vertical-align: top;\n",
       "    }\n",
       "\n",
       "    .dataframe thead th {\n",
       "        text-align: right;\n",
       "    }\n",
       "</style>\n",
       "<table border=\"1\" class=\"dataframe\">\n",
       "  <thead>\n",
       "    <tr style=\"text-align: right;\">\n",
       "      <th></th>\n",
       "      <th>Date</th>\n",
       "      <th>Facebook Ad Campaign</th>\n",
       "      <th>Facebook Ad Views</th>\n",
       "      <th>Facebook Ad Clicks</th>\n",
       "      <th>Facebook Ad Conversions</th>\n",
       "      <th>Cost per Facebook Ad</th>\n",
       "      <th>Facebook Click-Through Rate (Clicks / View)</th>\n",
       "      <th>Facebook Conversion Rate (Conversions / Clicks)</th>\n",
       "      <th>Facebook Cost per Click (Ad Cost / Clicks)</th>\n",
       "      <th>AdWords Ad Campaign</th>\n",
       "      <th>AdWords Ad Views</th>\n",
       "      <th>AdWords Ad Clicks</th>\n",
       "      <th>AdWords Ad Conversions</th>\n",
       "      <th>Cost per AdWords Ad</th>\n",
       "      <th>AdWords Click-Through Rate (Clicks / View)</th>\n",
       "      <th>AdWords Conversion Rate (Conversions / Click)</th>\n",
       "      <th>AdWords Cost per Click (Ad Cost / Clicks)</th>\n",
       "    </tr>\n",
       "  </thead>\n",
       "  <tbody>\n",
       "    <tr>\n",
       "      <th>0</th>\n",
       "      <td>1/1/2019</td>\n",
       "      <td>FB_Jan19</td>\n",
       "      <td>2116</td>\n",
       "      <td>18</td>\n",
       "      <td>8</td>\n",
       "      <td>$126</td>\n",
       "      <td>0.83%</td>\n",
       "      <td>42.73%</td>\n",
       "      <td>$7.14</td>\n",
       "      <td>AW_Jan19</td>\n",
       "      <td>4984</td>\n",
       "      <td>59</td>\n",
       "      <td>5</td>\n",
       "      <td>$194</td>\n",
       "      <td>1.18%</td>\n",
       "      <td>8.40%</td>\n",
       "      <td>$3.30</td>\n",
       "    </tr>\n",
       "    <tr>\n",
       "      <th>1</th>\n",
       "      <td>1/2/2019</td>\n",
       "      <td>FB_Jan19</td>\n",
       "      <td>3106</td>\n",
       "      <td>36</td>\n",
       "      <td>12</td>\n",
       "      <td>$104</td>\n",
       "      <td>1.15%</td>\n",
       "      <td>34.04%</td>\n",
       "      <td>$2.91</td>\n",
       "      <td>AW_Jan19</td>\n",
       "      <td>4022</td>\n",
       "      <td>71</td>\n",
       "      <td>6</td>\n",
       "      <td>$75</td>\n",
       "      <td>1.77%</td>\n",
       "      <td>7.80%</td>\n",
       "      <td>$1.05</td>\n",
       "    </tr>\n",
       "    <tr>\n",
       "      <th>2</th>\n",
       "      <td>1/3/2019</td>\n",
       "      <td>FB_Jan19</td>\n",
       "      <td>3105</td>\n",
       "      <td>26</td>\n",
       "      <td>8</td>\n",
       "      <td>$102</td>\n",
       "      <td>0.84%</td>\n",
       "      <td>31.45%</td>\n",
       "      <td>$3.89</td>\n",
       "      <td>AW_Jan19</td>\n",
       "      <td>3863</td>\n",
       "      <td>44</td>\n",
       "      <td>4</td>\n",
       "      <td>$141</td>\n",
       "      <td>1.13%</td>\n",
       "      <td>9.59%</td>\n",
       "      <td>$3.23</td>\n",
       "    </tr>\n",
       "    <tr>\n",
       "      <th>3</th>\n",
       "      <td>1/4/2019</td>\n",
       "      <td>FB_Jan19</td>\n",
       "      <td>1107</td>\n",
       "      <td>27</td>\n",
       "      <td>9</td>\n",
       "      <td>$71</td>\n",
       "      <td>2.45%</td>\n",
       "      <td>34.76%</td>\n",
       "      <td>$2.62</td>\n",
       "      <td>AW_Jan19</td>\n",
       "      <td>3911</td>\n",
       "      <td>49</td>\n",
       "      <td>5</td>\n",
       "      <td>$141</td>\n",
       "      <td>1.26%</td>\n",
       "      <td>11.08%</td>\n",
       "      <td>$2.86</td>\n",
       "    </tr>\n",
       "    <tr>\n",
       "      <th>4</th>\n",
       "      <td>1/5/2019</td>\n",
       "      <td>FB_Jan19</td>\n",
       "      <td>1317</td>\n",
       "      <td>15</td>\n",
       "      <td>7</td>\n",
       "      <td>$78</td>\n",
       "      <td>1.10%</td>\n",
       "      <td>47.59%</td>\n",
       "      <td>$5.38</td>\n",
       "      <td>AW_Jan19</td>\n",
       "      <td>4070</td>\n",
       "      <td>55</td>\n",
       "      <td>7</td>\n",
       "      <td>$133</td>\n",
       "      <td>1.36%</td>\n",
       "      <td>12.22%</td>\n",
       "      <td>$2.40</td>\n",
       "    </tr>\n",
       "    <tr>\n",
       "      <th>...</th>\n",
       "      <td>...</td>\n",
       "      <td>...</td>\n",
       "      <td>...</td>\n",
       "      <td>...</td>\n",
       "      <td>...</td>\n",
       "      <td>...</td>\n",
       "      <td>...</td>\n",
       "      <td>...</td>\n",
       "      <td>...</td>\n",
       "      <td>...</td>\n",
       "      <td>...</td>\n",
       "      <td>...</td>\n",
       "      <td>...</td>\n",
       "      <td>...</td>\n",
       "      <td>...</td>\n",
       "      <td>...</td>\n",
       "      <td>...</td>\n",
       "    </tr>\n",
       "    <tr>\n",
       "      <th>360</th>\n",
       "      <td>12/27/2019</td>\n",
       "      <td>FB_Dec19</td>\n",
       "      <td>3240</td>\n",
       "      <td>51</td>\n",
       "      <td>13</td>\n",
       "      <td>$63</td>\n",
       "      <td>1.57%</td>\n",
       "      <td>25.89%</td>\n",
       "      <td>$1.24</td>\n",
       "      <td>AW_Dec19</td>\n",
       "      <td>5332</td>\n",
       "      <td>72</td>\n",
       "      <td>9</td>\n",
       "      <td>$76</td>\n",
       "      <td>1.35%</td>\n",
       "      <td>11.92%</td>\n",
       "      <td>$1.06</td>\n",
       "    </tr>\n",
       "    <tr>\n",
       "      <th>361</th>\n",
       "      <td>12/28/2019</td>\n",
       "      <td>FB_Dec19</td>\n",
       "      <td>1510</td>\n",
       "      <td>69</td>\n",
       "      <td>18</td>\n",
       "      <td>$97</td>\n",
       "      <td>4.55%</td>\n",
       "      <td>25.82%</td>\n",
       "      <td>$1.42</td>\n",
       "      <td>AW_Dec19</td>\n",
       "      <td>3887</td>\n",
       "      <td>49</td>\n",
       "      <td>6</td>\n",
       "      <td>$121</td>\n",
       "      <td>1.27%</td>\n",
       "      <td>13.10%</td>\n",
       "      <td>$2.46</td>\n",
       "    </tr>\n",
       "    <tr>\n",
       "      <th>362</th>\n",
       "      <td>12/29/2019</td>\n",
       "      <td>FB_Dec19</td>\n",
       "      <td>2918</td>\n",
       "      <td>44</td>\n",
       "      <td>13</td>\n",
       "      <td>$49</td>\n",
       "      <td>1.50%</td>\n",
       "      <td>29.11%</td>\n",
       "      <td>$1.11</td>\n",
       "      <td>AW_Dec19</td>\n",
       "      <td>5327</td>\n",
       "      <td>62</td>\n",
       "      <td>6</td>\n",
       "      <td>$128</td>\n",
       "      <td>1.16%</td>\n",
       "      <td>9.85%</td>\n",
       "      <td>$2.08</td>\n",
       "    </tr>\n",
       "    <tr>\n",
       "      <th>363</th>\n",
       "      <td>12/30/2019</td>\n",
       "      <td>FB_Dec19</td>\n",
       "      <td>2212</td>\n",
       "      <td>37</td>\n",
       "      <td>8</td>\n",
       "      <td>$102</td>\n",
       "      <td>1.68%</td>\n",
       "      <td>22.70%</td>\n",
       "      <td>$2.75</td>\n",
       "      <td>AW_Dec19</td>\n",
       "      <td>4020</td>\n",
       "      <td>71</td>\n",
       "      <td>6</td>\n",
       "      <td>$119</td>\n",
       "      <td>1.76%</td>\n",
       "      <td>7.83%</td>\n",
       "      <td>$1.68</td>\n",
       "    </tr>\n",
       "    <tr>\n",
       "      <th>364</th>\n",
       "      <td>12/31/2019</td>\n",
       "      <td>FB_Dec19</td>\n",
       "      <td>1470</td>\n",
       "      <td>60</td>\n",
       "      <td>17</td>\n",
       "      <td>$99</td>\n",
       "      <td>4.06%</td>\n",
       "      <td>28.38%</td>\n",
       "      <td>$1.65</td>\n",
       "      <td>AW_Dec19</td>\n",
       "      <td>4592</td>\n",
       "      <td>47</td>\n",
       "      <td>6</td>\n",
       "      <td>$86</td>\n",
       "      <td>1.01%</td>\n",
       "      <td>13.60%</td>\n",
       "      <td>$1.85</td>\n",
       "    </tr>\n",
       "  </tbody>\n",
       "</table>\n",
       "<p>365 rows × 17 columns</p>\n",
       "</div>"
      ],
      "text/plain": [
       "           Date Facebook Ad Campaign  Facebook Ad Views  Facebook Ad Clicks  \\\n",
       "0      1/1/2019             FB_Jan19               2116                  18   \n",
       "1      1/2/2019             FB_Jan19               3106                  36   \n",
       "2      1/3/2019             FB_Jan19               3105                  26   \n",
       "3      1/4/2019             FB_Jan19               1107                  27   \n",
       "4      1/5/2019             FB_Jan19               1317                  15   \n",
       "..          ...                  ...                ...                 ...   \n",
       "360  12/27/2019             FB_Dec19               3240                  51   \n",
       "361  12/28/2019             FB_Dec19               1510                  69   \n",
       "362  12/29/2019             FB_Dec19               2918                  44   \n",
       "363  12/30/2019             FB_Dec19               2212                  37   \n",
       "364  12/31/2019             FB_Dec19               1470                  60   \n",
       "\n",
       "     Facebook Ad Conversions Cost per Facebook Ad  \\\n",
       "0                          8                 $126   \n",
       "1                         12                 $104   \n",
       "2                          8                 $102   \n",
       "3                          9                  $71   \n",
       "4                          7                  $78   \n",
       "..                       ...                  ...   \n",
       "360                       13                  $63   \n",
       "361                       18                  $97   \n",
       "362                       13                  $49   \n",
       "363                        8                 $102   \n",
       "364                       17                  $99   \n",
       "\n",
       "    Facebook Click-Through Rate (Clicks / View)  \\\n",
       "0                                         0.83%   \n",
       "1                                         1.15%   \n",
       "2                                         0.84%   \n",
       "3                                         2.45%   \n",
       "4                                         1.10%   \n",
       "..                                          ...   \n",
       "360                                       1.57%   \n",
       "361                                       4.55%   \n",
       "362                                       1.50%   \n",
       "363                                       1.68%   \n",
       "364                                       4.06%   \n",
       "\n",
       "    Facebook Conversion Rate (Conversions / Clicks)  \\\n",
       "0                                            42.73%   \n",
       "1                                            34.04%   \n",
       "2                                            31.45%   \n",
       "3                                            34.76%   \n",
       "4                                            47.59%   \n",
       "..                                              ...   \n",
       "360                                          25.89%   \n",
       "361                                          25.82%   \n",
       "362                                          29.11%   \n",
       "363                                          22.70%   \n",
       "364                                          28.38%   \n",
       "\n",
       "    Facebook Cost per Click (Ad Cost / Clicks) AdWords Ad Campaign  \\\n",
       "0                                        $7.14            AW_Jan19   \n",
       "1                                        $2.91            AW_Jan19   \n",
       "2                                        $3.89            AW_Jan19   \n",
       "3                                        $2.62            AW_Jan19   \n",
       "4                                        $5.38            AW_Jan19   \n",
       "..                                         ...                 ...   \n",
       "360                                      $1.24            AW_Dec19   \n",
       "361                                      $1.42            AW_Dec19   \n",
       "362                                      $1.11            AW_Dec19   \n",
       "363                                      $2.75            AW_Dec19   \n",
       "364                                      $1.65            AW_Dec19   \n",
       "\n",
       "     AdWords Ad Views  AdWords Ad Clicks  AdWords Ad Conversions  \\\n",
       "0                4984                 59                       5   \n",
       "1                4022                 71                       6   \n",
       "2                3863                 44                       4   \n",
       "3                3911                 49                       5   \n",
       "4                4070                 55                       7   \n",
       "..                ...                ...                     ...   \n",
       "360              5332                 72                       9   \n",
       "361              3887                 49                       6   \n",
       "362              5327                 62                       6   \n",
       "363              4020                 71                       6   \n",
       "364              4592                 47                       6   \n",
       "\n",
       "    Cost per AdWords Ad AdWords Click-Through Rate (Clicks / View)  \\\n",
       "0                  $194                                      1.18%   \n",
       "1                   $75                                      1.77%   \n",
       "2                  $141                                      1.13%   \n",
       "3                  $141                                      1.26%   \n",
       "4                  $133                                      1.36%   \n",
       "..                  ...                                        ...   \n",
       "360                 $76                                      1.35%   \n",
       "361                $121                                      1.27%   \n",
       "362                $128                                      1.16%   \n",
       "363                $119                                      1.76%   \n",
       "364                 $86                                      1.01%   \n",
       "\n",
       "    AdWords Conversion Rate (Conversions / Click)  \\\n",
       "0                                           8.40%   \n",
       "1                                           7.80%   \n",
       "2                                           9.59%   \n",
       "3                                          11.08%   \n",
       "4                                          12.22%   \n",
       "..                                            ...   \n",
       "360                                        11.92%   \n",
       "361                                        13.10%   \n",
       "362                                         9.85%   \n",
       "363                                         7.83%   \n",
       "364                                        13.60%   \n",
       "\n",
       "    AdWords Cost per Click (Ad Cost / Clicks)  \n",
       "0                                       $3.30  \n",
       "1                                       $1.05  \n",
       "2                                       $3.23  \n",
       "3                                       $2.86  \n",
       "4                                       $2.40  \n",
       "..                                        ...  \n",
       "360                                     $1.06  \n",
       "361                                     $2.46  \n",
       "362                                     $2.08  \n",
       "363                                     $1.68  \n",
       "364                                     $1.85  \n",
       "\n",
       "[365 rows x 17 columns]"
      ]
     },
     "execution_count": 3,
     "metadata": {},
     "output_type": "execute_result"
    }
   ],
   "source": [
    "df"
   ]
  },
  {
   "cell_type": "markdown",
   "id": "731ea52f",
   "metadata": {},
   "source": [
    "Data Description\n",
    "---\n",
    "\n",
    "The Dataset comprises a collection of data comparing the performance of ad campaigns on two platform ie. FB and Adwords conducted from 2022 to 2023. For present day, there is corresponding row in dataset, resulting in a total line of 650 rows of campaign data to analyse.\n",
    "\n",
    "    \n",
    "The dataset includes various perfomence metrics for each ad campaign :\n",
    "---\n",
    "\n",
    "---\n",
    "1. ad views : The number of time the ad was viewed.\n",
    "2. ad clicks : The number of clicks received on the ad.\n",
    "3. ad conversion : The number of conversions (desired action taken by user in response to a call-to-action (CTA) placed in an ad) resulting from the ad\n",
    "4. ad cost_per_ad : The total amount associated with running the ad online.\n",
    "5. Click-Through Rate (CTR) : The ratio of clicks to views, reflecting the effectiveness of ad in generating clicks.\n",
    "6. Conversion_rate : The ratio of conversion to clicks, reflecting the effectiveness of ad in driving desired actions. \n",
    "7. cost_per_click (CPC) : The average Cost incurred per click on the ad.\n",
    "---"
   ]
  },
  {
   "cell_type": "code",
   "execution_count": 4,
   "id": "2d2b6e41",
   "metadata": {},
   "outputs": [
    {
     "data": {
      "text/html": [
       "<div>\n",
       "<style scoped>\n",
       "    .dataframe tbody tr th:only-of-type {\n",
       "        vertical-align: middle;\n",
       "    }\n",
       "\n",
       "    .dataframe tbody tr th {\n",
       "        vertical-align: top;\n",
       "    }\n",
       "\n",
       "    .dataframe thead th {\n",
       "        text-align: right;\n",
       "    }\n",
       "</style>\n",
       "<table border=\"1\" class=\"dataframe\">\n",
       "  <thead>\n",
       "    <tr style=\"text-align: right;\">\n",
       "      <th></th>\n",
       "      <th>Date</th>\n",
       "      <th>Facebook Ad Campaign</th>\n",
       "      <th>Facebook Ad Views</th>\n",
       "      <th>Facebook Ad Clicks</th>\n",
       "      <th>Facebook Ad Conversions</th>\n",
       "      <th>Cost per Facebook Ad</th>\n",
       "      <th>Facebook Click-Through Rate (Clicks / View)</th>\n",
       "      <th>Facebook Conversion Rate (Conversions / Clicks)</th>\n",
       "      <th>Facebook Cost per Click (Ad Cost / Clicks)</th>\n",
       "      <th>AdWords Ad Campaign</th>\n",
       "      <th>AdWords Ad Views</th>\n",
       "      <th>AdWords Ad Clicks</th>\n",
       "      <th>AdWords Ad Conversions</th>\n",
       "      <th>Cost per AdWords Ad</th>\n",
       "      <th>AdWords Click-Through Rate (Clicks / View)</th>\n",
       "      <th>AdWords Conversion Rate (Conversions / Click)</th>\n",
       "      <th>AdWords Cost per Click (Ad Cost / Clicks)</th>\n",
       "    </tr>\n",
       "  </thead>\n",
       "  <tbody>\n",
       "    <tr>\n",
       "      <th>0</th>\n",
       "      <td>1/1/2019</td>\n",
       "      <td>FB_Jan19</td>\n",
       "      <td>2116</td>\n",
       "      <td>18</td>\n",
       "      <td>8</td>\n",
       "      <td>$126</td>\n",
       "      <td>0.83%</td>\n",
       "      <td>42.73%</td>\n",
       "      <td>$7.14</td>\n",
       "      <td>AW_Jan19</td>\n",
       "      <td>4984</td>\n",
       "      <td>59</td>\n",
       "      <td>5</td>\n",
       "      <td>$194</td>\n",
       "      <td>1.18%</td>\n",
       "      <td>8.40%</td>\n",
       "      <td>$3.30</td>\n",
       "    </tr>\n",
       "    <tr>\n",
       "      <th>1</th>\n",
       "      <td>1/2/2019</td>\n",
       "      <td>FB_Jan19</td>\n",
       "      <td>3106</td>\n",
       "      <td>36</td>\n",
       "      <td>12</td>\n",
       "      <td>$104</td>\n",
       "      <td>1.15%</td>\n",
       "      <td>34.04%</td>\n",
       "      <td>$2.91</td>\n",
       "      <td>AW_Jan19</td>\n",
       "      <td>4022</td>\n",
       "      <td>71</td>\n",
       "      <td>6</td>\n",
       "      <td>$75</td>\n",
       "      <td>1.77%</td>\n",
       "      <td>7.80%</td>\n",
       "      <td>$1.05</td>\n",
       "    </tr>\n",
       "    <tr>\n",
       "      <th>2</th>\n",
       "      <td>1/3/2019</td>\n",
       "      <td>FB_Jan19</td>\n",
       "      <td>3105</td>\n",
       "      <td>26</td>\n",
       "      <td>8</td>\n",
       "      <td>$102</td>\n",
       "      <td>0.84%</td>\n",
       "      <td>31.45%</td>\n",
       "      <td>$3.89</td>\n",
       "      <td>AW_Jan19</td>\n",
       "      <td>3863</td>\n",
       "      <td>44</td>\n",
       "      <td>4</td>\n",
       "      <td>$141</td>\n",
       "      <td>1.13%</td>\n",
       "      <td>9.59%</td>\n",
       "      <td>$3.23</td>\n",
       "    </tr>\n",
       "    <tr>\n",
       "      <th>3</th>\n",
       "      <td>1/4/2019</td>\n",
       "      <td>FB_Jan19</td>\n",
       "      <td>1107</td>\n",
       "      <td>27</td>\n",
       "      <td>9</td>\n",
       "      <td>$71</td>\n",
       "      <td>2.45%</td>\n",
       "      <td>34.76%</td>\n",
       "      <td>$2.62</td>\n",
       "      <td>AW_Jan19</td>\n",
       "      <td>3911</td>\n",
       "      <td>49</td>\n",
       "      <td>5</td>\n",
       "      <td>$141</td>\n",
       "      <td>1.26%</td>\n",
       "      <td>11.08%</td>\n",
       "      <td>$2.86</td>\n",
       "    </tr>\n",
       "    <tr>\n",
       "      <th>4</th>\n",
       "      <td>1/5/2019</td>\n",
       "      <td>FB_Jan19</td>\n",
       "      <td>1317</td>\n",
       "      <td>15</td>\n",
       "      <td>7</td>\n",
       "      <td>$78</td>\n",
       "      <td>1.10%</td>\n",
       "      <td>47.59%</td>\n",
       "      <td>$5.38</td>\n",
       "      <td>AW_Jan19</td>\n",
       "      <td>4070</td>\n",
       "      <td>55</td>\n",
       "      <td>7</td>\n",
       "      <td>$133</td>\n",
       "      <td>1.36%</td>\n",
       "      <td>12.22%</td>\n",
       "      <td>$2.40</td>\n",
       "    </tr>\n",
       "  </tbody>\n",
       "</table>\n",
       "</div>"
      ],
      "text/plain": [
       "       Date Facebook Ad Campaign  Facebook Ad Views  Facebook Ad Clicks  \\\n",
       "0  1/1/2019             FB_Jan19               2116                  18   \n",
       "1  1/2/2019             FB_Jan19               3106                  36   \n",
       "2  1/3/2019             FB_Jan19               3105                  26   \n",
       "3  1/4/2019             FB_Jan19               1107                  27   \n",
       "4  1/5/2019             FB_Jan19               1317                  15   \n",
       "\n",
       "   Facebook Ad Conversions Cost per Facebook Ad  \\\n",
       "0                        8                 $126   \n",
       "1                       12                 $104   \n",
       "2                        8                 $102   \n",
       "3                        9                  $71   \n",
       "4                        7                  $78   \n",
       "\n",
       "  Facebook Click-Through Rate (Clicks / View)  \\\n",
       "0                                       0.83%   \n",
       "1                                       1.15%   \n",
       "2                                       0.84%   \n",
       "3                                       2.45%   \n",
       "4                                       1.10%   \n",
       "\n",
       "  Facebook Conversion Rate (Conversions / Clicks)  \\\n",
       "0                                          42.73%   \n",
       "1                                          34.04%   \n",
       "2                                          31.45%   \n",
       "3                                          34.76%   \n",
       "4                                          47.59%   \n",
       "\n",
       "  Facebook Cost per Click (Ad Cost / Clicks) AdWords Ad Campaign  \\\n",
       "0                                      $7.14            AW_Jan19   \n",
       "1                                      $2.91            AW_Jan19   \n",
       "2                                      $3.89            AW_Jan19   \n",
       "3                                      $2.62            AW_Jan19   \n",
       "4                                      $5.38            AW_Jan19   \n",
       "\n",
       "   AdWords Ad Views  AdWords Ad Clicks  AdWords Ad Conversions  \\\n",
       "0              4984                 59                       5   \n",
       "1              4022                 71                       6   \n",
       "2              3863                 44                       4   \n",
       "3              3911                 49                       5   \n",
       "4              4070                 55                       7   \n",
       "\n",
       "  Cost per AdWords Ad AdWords Click-Through Rate (Clicks / View)  \\\n",
       "0                $194                                      1.18%   \n",
       "1                 $75                                      1.77%   \n",
       "2                $141                                      1.13%   \n",
       "3                $141                                      1.26%   \n",
       "4                $133                                      1.36%   \n",
       "\n",
       "  AdWords Conversion Rate (Conversions / Click)  \\\n",
       "0                                         8.40%   \n",
       "1                                         7.80%   \n",
       "2                                         9.59%   \n",
       "3                                        11.08%   \n",
       "4                                        12.22%   \n",
       "\n",
       "  AdWords Cost per Click (Ad Cost / Clicks)  \n",
       "0                                     $3.30  \n",
       "1                                     $1.05  \n",
       "2                                     $3.23  \n",
       "3                                     $2.86  \n",
       "4                                     $2.40  "
      ]
     },
     "execution_count": 4,
     "metadata": {},
     "output_type": "execute_result"
    }
   ],
   "source": [
    "#data overview\n",
    "df.head()"
   ]
  },
  {
   "cell_type": "code",
   "execution_count": 5,
   "id": "bd38a45c",
   "metadata": {},
   "outputs": [
    {
     "data": {
      "text/plain": [
       "(365, 17)"
      ]
     },
     "execution_count": 5,
     "metadata": {},
     "output_type": "execute_result"
    }
   ],
   "source": [
    "#Rows & Columns count of dataset\n",
    "df.shape"
   ]
  },
  {
   "cell_type": "code",
   "execution_count": 6,
   "id": "754469d8",
   "metadata": {},
   "outputs": [
    {
     "data": {
      "text/plain": [
       "Date                                               object\n",
       "Facebook Ad Campaign                               object\n",
       "Facebook Ad Views                                   int64\n",
       "Facebook Ad Clicks                                  int64\n",
       "Facebook Ad Conversions                             int64\n",
       "Cost per Facebook Ad                               object\n",
       "Facebook Click-Through Rate (Clicks / View)        object\n",
       "Facebook Conversion Rate (Conversions / Clicks)    object\n",
       "Facebook Cost per Click (Ad Cost / Clicks)         object\n",
       "AdWords Ad Campaign                                object\n",
       "AdWords Ad Views                                    int64\n",
       "AdWords Ad Clicks                                   int64\n",
       "AdWords Ad Conversions                              int64\n",
       "Cost per AdWords Ad                                object\n",
       "AdWords Click-Through Rate (Clicks / View)         object\n",
       "AdWords Conversion Rate (Conversions / Click)      object\n",
       "AdWords Cost per Click (Ad Cost / Clicks)          object\n",
       "dtype: object"
      ]
     },
     "execution_count": 6,
     "metadata": {},
     "output_type": "execute_result"
    }
   ],
   "source": [
    "#Datatypes of the columns\n",
    "df.dtypes"
   ]
  },
  {
   "cell_type": "code",
   "execution_count": 7,
   "id": "2d7925d7",
   "metadata": {},
   "outputs": [],
   "source": [
    "#converting date column from object to datetime format\n",
    "df['Date'] = pd.to_datetime(df['Date'])"
   ]
  },
  {
   "cell_type": "code",
   "execution_count": 8,
   "id": "778e5bd5",
   "metadata": {},
   "outputs": [
    {
     "data": {
      "text/plain": [
       "Date                                               datetime64[ns]\n",
       "Facebook Ad Campaign                                       object\n",
       "Facebook Ad Views                                           int64\n",
       "Facebook Ad Clicks                                          int64\n",
       "Facebook Ad Conversions                                     int64\n",
       "Cost per Facebook Ad                                       object\n",
       "Facebook Click-Through Rate (Clicks / View)                object\n",
       "Facebook Conversion Rate (Conversions / Clicks)            object\n",
       "Facebook Cost per Click (Ad Cost / Clicks)                 object\n",
       "AdWords Ad Campaign                                        object\n",
       "AdWords Ad Views                                            int64\n",
       "AdWords Ad Clicks                                           int64\n",
       "AdWords Ad Conversions                                      int64\n",
       "Cost per AdWords Ad                                        object\n",
       "AdWords Click-Through Rate (Clicks / View)                 object\n",
       "AdWords Conversion Rate (Conversions / Click)              object\n",
       "AdWords Cost per Click (Ad Cost / Clicks)                  object\n",
       "dtype: object"
      ]
     },
     "execution_count": 8,
     "metadata": {},
     "output_type": "execute_result"
    }
   ],
   "source": [
    "#Datatypes of the columns\n",
    "df.dtypes"
   ]
  },
  {
   "cell_type": "code",
   "execution_count": 9,
   "id": "7c47288f",
   "metadata": {},
   "outputs": [
    {
     "data": {
      "text/html": [
       "<div>\n",
       "<style scoped>\n",
       "    .dataframe tbody tr th:only-of-type {\n",
       "        vertical-align: middle;\n",
       "    }\n",
       "\n",
       "    .dataframe tbody tr th {\n",
       "        vertical-align: top;\n",
       "    }\n",
       "\n",
       "    .dataframe thead th {\n",
       "        text-align: right;\n",
       "    }\n",
       "</style>\n",
       "<table border=\"1\" class=\"dataframe\">\n",
       "  <thead>\n",
       "    <tr style=\"text-align: right;\">\n",
       "      <th></th>\n",
       "      <th>Date</th>\n",
       "      <th>Facebook Ad Views</th>\n",
       "      <th>Facebook Ad Clicks</th>\n",
       "      <th>Facebook Ad Conversions</th>\n",
       "      <th>AdWords Ad Views</th>\n",
       "      <th>AdWords Ad Clicks</th>\n",
       "      <th>AdWords Ad Conversions</th>\n",
       "    </tr>\n",
       "  </thead>\n",
       "  <tbody>\n",
       "    <tr>\n",
       "      <th>count</th>\n",
       "      <td>365</td>\n",
       "      <td>365.000000</td>\n",
       "      <td>365.000000</td>\n",
       "      <td>365.000000</td>\n",
       "      <td>365.00000</td>\n",
       "      <td>365.000000</td>\n",
       "      <td>365.000000</td>\n",
       "    </tr>\n",
       "    <tr>\n",
       "      <th>mean</th>\n",
       "      <td>2019-07-02 00:00:00</td>\n",
       "      <td>2179.687671</td>\n",
       "      <td>44.049315</td>\n",
       "      <td>11.742466</td>\n",
       "      <td>4717.19726</td>\n",
       "      <td>60.383562</td>\n",
       "      <td>5.980822</td>\n",
       "    </tr>\n",
       "    <tr>\n",
       "      <th>min</th>\n",
       "      <td>2019-01-01 00:00:00</td>\n",
       "      <td>1050.000000</td>\n",
       "      <td>15.000000</td>\n",
       "      <td>5.000000</td>\n",
       "      <td>3714.00000</td>\n",
       "      <td>31.000000</td>\n",
       "      <td>3.000000</td>\n",
       "    </tr>\n",
       "    <tr>\n",
       "      <th>25%</th>\n",
       "      <td>2019-04-02 00:00:00</td>\n",
       "      <td>1656.000000</td>\n",
       "      <td>35.000000</td>\n",
       "      <td>10.000000</td>\n",
       "      <td>4247.00000</td>\n",
       "      <td>49.000000</td>\n",
       "      <td>5.000000</td>\n",
       "    </tr>\n",
       "    <tr>\n",
       "      <th>50%</th>\n",
       "      <td>2019-07-02 00:00:00</td>\n",
       "      <td>2202.000000</td>\n",
       "      <td>43.000000</td>\n",
       "      <td>12.000000</td>\n",
       "      <td>4711.00000</td>\n",
       "      <td>60.000000</td>\n",
       "      <td>6.000000</td>\n",
       "    </tr>\n",
       "    <tr>\n",
       "      <th>75%</th>\n",
       "      <td>2019-10-01 00:00:00</td>\n",
       "      <td>2717.000000</td>\n",
       "      <td>54.000000</td>\n",
       "      <td>13.000000</td>\n",
       "      <td>5190.00000</td>\n",
       "      <td>73.000000</td>\n",
       "      <td>7.000000</td>\n",
       "    </tr>\n",
       "    <tr>\n",
       "      <th>max</th>\n",
       "      <td>2019-12-31 00:00:00</td>\n",
       "      <td>3320.000000</td>\n",
       "      <td>73.000000</td>\n",
       "      <td>19.000000</td>\n",
       "      <td>5760.00000</td>\n",
       "      <td>89.000000</td>\n",
       "      <td>9.000000</td>\n",
       "    </tr>\n",
       "    <tr>\n",
       "      <th>std</th>\n",
       "      <td>NaN</td>\n",
       "      <td>618.074639</td>\n",
       "      <td>12.140559</td>\n",
       "      <td>2.924786</td>\n",
       "      <td>561.11406</td>\n",
       "      <td>14.368225</td>\n",
       "      <td>1.628106</td>\n",
       "    </tr>\n",
       "  </tbody>\n",
       "</table>\n",
       "</div>"
      ],
      "text/plain": [
       "                      Date  Facebook Ad Views  Facebook Ad Clicks  \\\n",
       "count                  365         365.000000          365.000000   \n",
       "mean   2019-07-02 00:00:00        2179.687671           44.049315   \n",
       "min    2019-01-01 00:00:00        1050.000000           15.000000   \n",
       "25%    2019-04-02 00:00:00        1656.000000           35.000000   \n",
       "50%    2019-07-02 00:00:00        2202.000000           43.000000   \n",
       "75%    2019-10-01 00:00:00        2717.000000           54.000000   \n",
       "max    2019-12-31 00:00:00        3320.000000           73.000000   \n",
       "std                    NaN         618.074639           12.140559   \n",
       "\n",
       "       Facebook Ad Conversions  AdWords Ad Views  AdWords Ad Clicks  \\\n",
       "count               365.000000         365.00000         365.000000   \n",
       "mean                 11.742466        4717.19726          60.383562   \n",
       "min                   5.000000        3714.00000          31.000000   \n",
       "25%                  10.000000        4247.00000          49.000000   \n",
       "50%                  12.000000        4711.00000          60.000000   \n",
       "75%                  13.000000        5190.00000          73.000000   \n",
       "max                  19.000000        5760.00000          89.000000   \n",
       "std                   2.924786         561.11406          14.368225   \n",
       "\n",
       "       AdWords Ad Conversions  \n",
       "count              365.000000  \n",
       "mean                 5.980822  \n",
       "min                  3.000000  \n",
       "25%                  5.000000  \n",
       "50%                  6.000000  \n",
       "75%                  7.000000  \n",
       "max                  9.000000  \n",
       "std                  1.628106  "
      ]
     },
     "execution_count": 9,
     "metadata": {},
     "output_type": "execute_result"
    }
   ],
   "source": [
    "#Desctiptive stats of the campaigns\n",
    "df.describe()"
   ]
  },
  {
   "cell_type": "code",
   "execution_count": 10,
   "id": "1df66bca",
   "metadata": {},
   "outputs": [
    {
     "data": {
      "image/png": "[encoded data removed]",
      "text/plain": [
       "<Figure size 1500x600 with 2 Axes>"
      ]
     },
     "metadata": {},
     "output_type": "display_data"
    },
    {
     "data": {
      "image/png": "[encoded data removed]",
      "text/plain": [
       "<Figure size 1500x600 with 2 Axes>"
      ]
     },
     "metadata": {},
     "output_type": "display_data"
    }
   ],
   "source": [
    "#Distribution of clicks and conversion\n",
    "\n",
    "plt.figure(figsize=(15,6))\n",
    "plt.subplot(1,2,1)\n",
    "plt.title('FB_Clicks')\n",
    "sns.histplot(df['Facebook Ad Clicks'], bins = 7, edgecolor = 'k', kde = True)\n",
    "\n",
    "plt.subplot(1,2,2)\n",
    "plt.title('FB_ad_conversions')\n",
    "sns.histplot(df['Facebook Ad Conversions'], bins = 7, edgecolor = 'k', kde = True)\n",
    "\n",
    "plt.figure(figsize=(15,6))\n",
    "plt.subplot(1,2,1)\n",
    "plt.title('AW_ad_clicks')\n",
    "sns.histplot(df['AdWords Ad Clicks'], bins = 7, edgecolor = 'k', kde = True)\n",
    "\n",
    "plt.subplot(1,2,2)\n",
    "plt.title('AW_ad_conversions')\n",
    "sns.histplot(df['AdWords Ad Conversions'], bins = 7, edgecolor = 'k', kde = True)\n",
    "\n",
    "plt.tight_layout()\n",
    "plt.show()"
   ]
  },
  {
   "cell_type": "markdown",
   "id": "9b8ca5c2",
   "metadata": {},
   "source": [
    "All the histograms are showing somewhat symmetrical shape. This symmetrical shape suggest the number of clicks and conversion is relatively  evenly distributed. In other words there are not many clicks or conversion that are outliers on either the high or low ends\n",
    "--"
   ]
  },
  {
   "cell_type": "markdown",
   "id": "e0f29775",
   "metadata": {},
   "source": [
    "<h3> Q2. How frequently do we observe the number of high conversion days compared to the days with low conversion? "
   ]
  },
  {
   "cell_type": "code",
   "execution_count": 11,
   "id": "5a15bd34",
   "metadata": {},
   "outputs": [],
   "source": [
    "# Function to calculate categories for the conversions\n",
    "def create_conversion_category(conversion_series):\n",
    "    category = []\n",
    "    for conversion in conversion_series:\n",
    "        if conversion < 6:\n",
    "            category.append('Less than 6')\n",
    "        elif 6 <= conversion < 11:\n",
    "            category.append('6-10')\n",
    "        elif 11 <= conversion < 16:\n",
    "            category.append('11-15')\n",
    "        else:\n",
    "            category.append('More than 15')\n",
    "    return category\n",
    "\n",
    "# Applying function to different campaign conversions\n",
    "df['FB_conversion_category'] = create_conversion_category(df['Facebook Ad Conversions'])\n",
    "df['AW_conversion_category'] = create_conversion_category(df['AdWords Ad Conversions'])\n"
   ]
  },
  {
   "cell_type": "code",
   "execution_count": 12,
   "id": "c5ea097e",
   "metadata": {},
   "outputs": [
    {
     "data": {
      "text/html": [
       "<div>\n",
       "<style scoped>\n",
       "    .dataframe tbody tr th:only-of-type {\n",
       "        vertical-align: middle;\n",
       "    }\n",
       "\n",
       "    .dataframe tbody tr th {\n",
       "        vertical-align: top;\n",
       "    }\n",
       "\n",
       "    .dataframe thead th {\n",
       "        text-align: right;\n",
       "    }\n",
       "</style>\n",
       "<table border=\"1\" class=\"dataframe\">\n",
       "  <thead>\n",
       "    <tr style=\"text-align: right;\">\n",
       "      <th></th>\n",
       "      <th>Facebook Ad Conversions</th>\n",
       "      <th>FB_conversion_category</th>\n",
       "      <th>AdWords Ad Conversions</th>\n",
       "      <th>AW_conversion_category</th>\n",
       "    </tr>\n",
       "  </thead>\n",
       "  <tbody>\n",
       "    <tr>\n",
       "      <th>0</th>\n",
       "      <td>8</td>\n",
       "      <td>6-10</td>\n",
       "      <td>5</td>\n",
       "      <td>Less than 6</td>\n",
       "    </tr>\n",
       "    <tr>\n",
       "      <th>1</th>\n",
       "      <td>12</td>\n",
       "      <td>11-15</td>\n",
       "      <td>6</td>\n",
       "      <td>6-10</td>\n",
       "    </tr>\n",
       "    <tr>\n",
       "      <th>2</th>\n",
       "      <td>8</td>\n",
       "      <td>6-10</td>\n",
       "      <td>4</td>\n",
       "      <td>Less than 6</td>\n",
       "    </tr>\n",
       "    <tr>\n",
       "      <th>3</th>\n",
       "      <td>9</td>\n",
       "      <td>6-10</td>\n",
       "      <td>5</td>\n",
       "      <td>Less than 6</td>\n",
       "    </tr>\n",
       "    <tr>\n",
       "      <th>4</th>\n",
       "      <td>7</td>\n",
       "      <td>6-10</td>\n",
       "      <td>7</td>\n",
       "      <td>6-10</td>\n",
       "    </tr>\n",
       "  </tbody>\n",
       "</table>\n",
       "</div>"
      ],
      "text/plain": [
       "   Facebook Ad Conversions FB_conversion_category  AdWords Ad Conversions  \\\n",
       "0                        8                   6-10                       5   \n",
       "1                       12                  11-15                       6   \n",
       "2                        8                   6-10                       4   \n",
       "3                        9                   6-10                       5   \n",
       "4                        7                   6-10                       7   \n",
       "\n",
       "  AW_conversion_category  \n",
       "0            Less than 6  \n",
       "1                   6-10  \n",
       "2            Less than 6  \n",
       "3            Less than 6  \n",
       "4                   6-10  "
      ]
     },
     "execution_count": 12,
     "metadata": {},
     "output_type": "execute_result"
    }
   ],
   "source": [
    "df[['Facebook Ad Conversions','FB_conversion_category','AdWords Ad Conversions','AW_conversion_category']].head()"
   ]
  },
  {
   "cell_type": "code",
   "execution_count": 13,
   "id": "feb9a8e7",
   "metadata": {},
   "outputs": [
    {
     "data": {
      "text/plain": [
       "FB_conversion_category\n",
       "11-15           189\n",
       "6-10            128\n",
       "More than 15     47\n",
       "Less than 6       1\n",
       "Name: count, dtype: int64"
      ]
     },
     "execution_count": 13,
     "metadata": {},
     "output_type": "execute_result"
    }
   ],
   "source": [
    "#daycount of FB_conversion_category\n",
    "df['FB_conversion_category'].value_counts()"
   ]
  },
  {
   "cell_type": "code",
   "execution_count": 14,
   "id": "ba038517",
   "metadata": {},
   "outputs": [
    {
     "data": {
      "text/html": [
       "<div>\n",
       "<style scoped>\n",
       "    .dataframe tbody tr th:only-of-type {\n",
       "        vertical-align: middle;\n",
       "    }\n",
       "\n",
       "    .dataframe tbody tr th {\n",
       "        vertical-align: top;\n",
       "    }\n",
       "\n",
       "    .dataframe thead th {\n",
       "        text-align: right;\n",
       "    }\n",
       "</style>\n",
       "<table border=\"1\" class=\"dataframe\">\n",
       "  <thead>\n",
       "    <tr style=\"text-align: right;\">\n",
       "      <th></th>\n",
       "      <th>FB_conversion_category</th>\n",
       "      <th>count</th>\n",
       "    </tr>\n",
       "  </thead>\n",
       "  <tbody>\n",
       "    <tr>\n",
       "      <th>0</th>\n",
       "      <td>11-15</td>\n",
       "      <td>189</td>\n",
       "    </tr>\n",
       "    <tr>\n",
       "      <th>1</th>\n",
       "      <td>6-10</td>\n",
       "      <td>128</td>\n",
       "    </tr>\n",
       "    <tr>\n",
       "      <th>2</th>\n",
       "      <td>More than 15</td>\n",
       "      <td>47</td>\n",
       "    </tr>\n",
       "    <tr>\n",
       "      <th>3</th>\n",
       "      <td>Less than 6</td>\n",
       "      <td>1</td>\n",
       "    </tr>\n",
       "  </tbody>\n",
       "</table>\n",
       "</div>"
      ],
      "text/plain": [
       "  FB_conversion_category  count\n",
       "0                  11-15    189\n",
       "1                   6-10    128\n",
       "2           More than 15     47\n",
       "3            Less than 6      1"
      ]
     },
     "execution_count": 14,
     "metadata": {},
     "output_type": "execute_result"
    }
   ],
   "source": [
    "#crearting a dataframe to show FB_conversion_category & its day count\n",
    "facebook = pd.DataFrame(df['FB_conversion_category'].value_counts()).reset_index()\n",
    "facebook"
   ]
  },
  {
   "cell_type": "code",
   "execution_count": 15,
   "id": "9629dd6d",
   "metadata": {},
   "outputs": [
    {
     "data": {
      "text/html": [
       "<div>\n",
       "<style scoped>\n",
       "    .dataframe tbody tr th:only-of-type {\n",
       "        vertical-align: middle;\n",
       "    }\n",
       "\n",
       "    .dataframe tbody tr th {\n",
       "        vertical-align: top;\n",
       "    }\n",
       "\n",
       "    .dataframe thead th {\n",
       "        text-align: right;\n",
       "    }\n",
       "</style>\n",
       "<table border=\"1\" class=\"dataframe\">\n",
       "  <thead>\n",
       "    <tr style=\"text-align: right;\">\n",
       "      <th></th>\n",
       "      <th>category</th>\n",
       "      <th>count</th>\n",
       "    </tr>\n",
       "  </thead>\n",
       "  <tbody>\n",
       "    <tr>\n",
       "      <th>0</th>\n",
       "      <td>11-15</td>\n",
       "      <td>189</td>\n",
       "    </tr>\n",
       "    <tr>\n",
       "      <th>1</th>\n",
       "      <td>6-10</td>\n",
       "      <td>128</td>\n",
       "    </tr>\n",
       "    <tr>\n",
       "      <th>2</th>\n",
       "      <td>More than 15</td>\n",
       "      <td>47</td>\n",
       "    </tr>\n",
       "    <tr>\n",
       "      <th>3</th>\n",
       "      <td>Less than 6</td>\n",
       "      <td>1</td>\n",
       "    </tr>\n",
       "  </tbody>\n",
       "</table>\n",
       "</div>"
      ],
      "text/plain": [
       "       category  count\n",
       "0         11-15    189\n",
       "1          6-10    128\n",
       "2  More than 15     47\n",
       "3   Less than 6      1"
      ]
     },
     "execution_count": 15,
     "metadata": {},
     "output_type": "execute_result"
    }
   ],
   "source": [
    "#rename the FB_conversion_category column as category \n",
    "facebook = facebook.rename(columns={'FB_conversion_category':'category'})\n",
    "facebook"
   ]
  },
  {
   "cell_type": "code",
   "execution_count": 16,
   "id": "89573c7d",
   "metadata": {},
   "outputs": [
    {
     "data": {
      "text/plain": [
       "AW_conversion_category\n",
       "6-10           209\n",
       "Less than 6    156\n",
       "Name: count, dtype: int64"
      ]
     },
     "execution_count": 16,
     "metadata": {},
     "output_type": "execute_result"
    }
   ],
   "source": [
    "#daycount of AW_conversion_category\n",
    "df['AW_conversion_category'].value_counts()"
   ]
  },
  {
   "cell_type": "code",
   "execution_count": 17,
   "id": "ba146c49",
   "metadata": {},
   "outputs": [
    {
     "data": {
      "text/html": [
       "<div>\n",
       "<style scoped>\n",
       "    .dataframe tbody tr th:only-of-type {\n",
       "        vertical-align: middle;\n",
       "    }\n",
       "\n",
       "    .dataframe tbody tr th {\n",
       "        vertical-align: top;\n",
       "    }\n",
       "\n",
       "    .dataframe thead th {\n",
       "        text-align: right;\n",
       "    }\n",
       "</style>\n",
       "<table border=\"1\" class=\"dataframe\">\n",
       "  <thead>\n",
       "    <tr style=\"text-align: right;\">\n",
       "      <th></th>\n",
       "      <th>AW_conversion_category</th>\n",
       "      <th>count</th>\n",
       "    </tr>\n",
       "  </thead>\n",
       "  <tbody>\n",
       "    <tr>\n",
       "      <th>0</th>\n",
       "      <td>6-10</td>\n",
       "      <td>209</td>\n",
       "    </tr>\n",
       "    <tr>\n",
       "      <th>1</th>\n",
       "      <td>Less than 6</td>\n",
       "      <td>156</td>\n",
       "    </tr>\n",
       "  </tbody>\n",
       "</table>\n",
       "</div>"
      ],
      "text/plain": [
       "  AW_conversion_category  count\n",
       "0                   6-10    209\n",
       "1            Less than 6    156"
      ]
     },
     "execution_count": 17,
     "metadata": {},
     "output_type": "execute_result"
    }
   ],
   "source": [
    "#crearting a dataframe to show AW_conversion_category & its day count\n",
    "adwords = pd.DataFrame(df['AW_conversion_category'].value_counts()).reset_index()\n",
    "adwords"
   ]
  },
  {
   "cell_type": "code",
   "execution_count": 18,
   "id": "779fd0b8",
   "metadata": {},
   "outputs": [
    {
     "data": {
      "text/html": [
       "<div>\n",
       "<style scoped>\n",
       "    .dataframe tbody tr th:only-of-type {\n",
       "        vertical-align: middle;\n",
       "    }\n",
       "\n",
       "    .dataframe tbody tr th {\n",
       "        vertical-align: top;\n",
       "    }\n",
       "\n",
       "    .dataframe thead th {\n",
       "        text-align: right;\n",
       "    }\n",
       "</style>\n",
       "<table border=\"1\" class=\"dataframe\">\n",
       "  <thead>\n",
       "    <tr style=\"text-align: right;\">\n",
       "      <th></th>\n",
       "      <th>category</th>\n",
       "      <th>count</th>\n",
       "    </tr>\n",
       "  </thead>\n",
       "  <tbody>\n",
       "    <tr>\n",
       "      <th>0</th>\n",
       "      <td>6-10</td>\n",
       "      <td>209</td>\n",
       "    </tr>\n",
       "    <tr>\n",
       "      <th>1</th>\n",
       "      <td>Less than 6</td>\n",
       "      <td>156</td>\n",
       "    </tr>\n",
       "  </tbody>\n",
       "</table>\n",
       "</div>"
      ],
      "text/plain": [
       "      category  count\n",
       "0         6-10    209\n",
       "1  Less than 6    156"
      ]
     },
     "execution_count": 18,
     "metadata": {},
     "output_type": "execute_result"
    }
   ],
   "source": [
    "#rename the AW_conversion_category column as category \n",
    "adwords = adwords.rename(columns={'AW_conversion_category':'category'})\n",
    "adwords"
   ]
  },
  {
   "cell_type": "code",
   "execution_count": 19,
   "id": "fc73faeb",
   "metadata": {},
   "outputs": [
    {
     "data": {
      "text/html": [
       "<div>\n",
       "<style scoped>\n",
       "    .dataframe tbody tr th:only-of-type {\n",
       "        vertical-align: middle;\n",
       "    }\n",
       "\n",
       "    .dataframe tbody tr th {\n",
       "        vertical-align: top;\n",
       "    }\n",
       "\n",
       "    .dataframe thead th {\n",
       "        text-align: right;\n",
       "    }\n",
       "</style>\n",
       "<table border=\"1\" class=\"dataframe\">\n",
       "  <thead>\n",
       "    <tr style=\"text-align: right;\">\n",
       "      <th></th>\n",
       "      <th>category</th>\n",
       "      <th>count_x</th>\n",
       "      <th>count_y</th>\n",
       "    </tr>\n",
       "  </thead>\n",
       "  <tbody>\n",
       "    <tr>\n",
       "      <th>0</th>\n",
       "      <td>11-15</td>\n",
       "      <td>189</td>\n",
       "      <td>0.0</td>\n",
       "    </tr>\n",
       "    <tr>\n",
       "      <th>1</th>\n",
       "      <td>6-10</td>\n",
       "      <td>128</td>\n",
       "      <td>209.0</td>\n",
       "    </tr>\n",
       "    <tr>\n",
       "      <th>2</th>\n",
       "      <td>More than 15</td>\n",
       "      <td>47</td>\n",
       "      <td>0.0</td>\n",
       "    </tr>\n",
       "    <tr>\n",
       "      <th>3</th>\n",
       "      <td>Less than 6</td>\n",
       "      <td>1</td>\n",
       "      <td>156.0</td>\n",
       "    </tr>\n",
       "  </tbody>\n",
       "</table>\n",
       "</div>"
      ],
      "text/plain": [
       "       category  count_x  count_y\n",
       "0         11-15      189      0.0\n",
       "1          6-10      128    209.0\n",
       "2  More than 15       47      0.0\n",
       "3   Less than 6        1    156.0"
      ]
     },
     "execution_count": 19,
     "metadata": {},
     "output_type": "execute_result"
    }
   ],
   "source": [
    "#merging above 2 dataframes called facebook & adwords on category column \n",
    "category_df = pd.merge(facebook,adwords, on='category', how='outer').fillna(0)\n",
    "category_df"
   ]
  },
  {
   "cell_type": "code",
   "execution_count": 20,
   "id": "4ac62978",
   "metadata": {},
   "outputs": [
    {
     "data": {
      "text/html": [
       "<div>\n",
       "<style scoped>\n",
       "    .dataframe tbody tr th:only-of-type {\n",
       "        vertical-align: middle;\n",
       "    }\n",
       "\n",
       "    .dataframe tbody tr th {\n",
       "        vertical-align: top;\n",
       "    }\n",
       "\n",
       "    .dataframe thead th {\n",
       "        text-align: right;\n",
       "    }\n",
       "</style>\n",
       "<table border=\"1\" class=\"dataframe\">\n",
       "  <thead>\n",
       "    <tr style=\"text-align: right;\">\n",
       "      <th></th>\n",
       "      <th>category</th>\n",
       "      <th>facebook</th>\n",
       "      <th>adwords</th>\n",
       "    </tr>\n",
       "  </thead>\n",
       "  <tbody>\n",
       "    <tr>\n",
       "      <th>0</th>\n",
       "      <td>11-15</td>\n",
       "      <td>189</td>\n",
       "      <td>0.0</td>\n",
       "    </tr>\n",
       "    <tr>\n",
       "      <th>1</th>\n",
       "      <td>6-10</td>\n",
       "      <td>128</td>\n",
       "      <td>209.0</td>\n",
       "    </tr>\n",
       "    <tr>\n",
       "      <th>2</th>\n",
       "      <td>More than 15</td>\n",
       "      <td>47</td>\n",
       "      <td>0.0</td>\n",
       "    </tr>\n",
       "    <tr>\n",
       "      <th>3</th>\n",
       "      <td>Less than 6</td>\n",
       "      <td>1</td>\n",
       "      <td>156.0</td>\n",
       "    </tr>\n",
       "  </tbody>\n",
       "</table>\n",
       "</div>"
      ],
      "text/plain": [
       "       category  facebook  adwords\n",
       "0         11-15       189      0.0\n",
       "1          6-10       128    209.0\n",
       "2  More than 15        47      0.0\n",
       "3   Less than 6         1    156.0"
      ]
     },
     "execution_count": 20,
     "metadata": {},
     "output_type": "execute_result"
    }
   ],
   "source": [
    "#rename count_x & count_y as facebook & adwords accordingly\n",
    "category_df.rename(columns={'count_x':'facebook','count_y':'adwords'}, inplace=True)\n",
    "category_df"
   ]
  },
  {
   "cell_type": "code",
   "execution_count": 21,
   "id": "9eb49cf7",
   "metadata": {},
   "outputs": [
    {
     "data": {
      "text/html": [
       "<div>\n",
       "<style scoped>\n",
       "    .dataframe tbody tr th:only-of-type {\n",
       "        vertical-align: middle;\n",
       "    }\n",
       "\n",
       "    .dataframe tbody tr th {\n",
       "        vertical-align: top;\n",
       "    }\n",
       "\n",
       "    .dataframe thead th {\n",
       "        text-align: right;\n",
       "    }\n",
       "</style>\n",
       "<table border=\"1\" class=\"dataframe\">\n",
       "  <thead>\n",
       "    <tr style=\"text-align: right;\">\n",
       "      <th></th>\n",
       "      <th>category</th>\n",
       "      <th>facebook</th>\n",
       "      <th>adwords</th>\n",
       "    </tr>\n",
       "  </thead>\n",
       "  <tbody>\n",
       "    <tr>\n",
       "      <th>3</th>\n",
       "      <td>Less than 6</td>\n",
       "      <td>1</td>\n",
       "      <td>156.0</td>\n",
       "    </tr>\n",
       "    <tr>\n",
       "      <th>1</th>\n",
       "      <td>6-10</td>\n",
       "      <td>128</td>\n",
       "      <td>209.0</td>\n",
       "    </tr>\n",
       "    <tr>\n",
       "      <th>0</th>\n",
       "      <td>11-15</td>\n",
       "      <td>189</td>\n",
       "      <td>0.0</td>\n",
       "    </tr>\n",
       "    <tr>\n",
       "      <th>2</th>\n",
       "      <td>More than 15</td>\n",
       "      <td>47</td>\n",
       "      <td>0.0</td>\n",
       "    </tr>\n",
       "  </tbody>\n",
       "</table>\n",
       "</div>"
      ],
      "text/plain": [
       "       category  facebook  adwords\n",
       "3   Less than 6         1    156.0\n",
       "1          6-10       128    209.0\n",
       "0         11-15       189      0.0\n",
       "2  More than 15        47      0.0"
      ]
     },
     "execution_count": 21,
     "metadata": {},
     "output_type": "execute_result"
    }
   ],
   "source": [
    "#setting uo dataframes on category asceding to descending.\n",
    "category_df= category_df.iloc[[3,1,0,2]]\n",
    "category_df"
   ]
  },
  {
   "cell_type": "code",
   "execution_count": 22,
   "id": "0e5d127c",
   "metadata": {},
   "outputs": [
    {
     "data": {
      "text/plain": [
       "<matplotlib.legend.Legend at 0x1c8fd489f60>"
      ]
     },
     "execution_count": 22,
     "metadata": {},
     "output_type": "execute_result"
    },
    {
     "data": {
      "image/png": "[encoded data removed]",
      "text/plain": [
       "<Figure size 1000x500 with 1 Axes>"
      ]
     },
     "metadata": {},
     "output_type": "display_data"
    }
   ],
   "source": [
    "#plotting barplot to show frequncy of daily conversion by conversion_category on facebook & adwords for comparison\n",
    "\n",
    "# Set x-axis positions\n",
    "x_axis = np.arange(len(category_df))\n",
    "\n",
    "plt.figure(figsize=(10,5))\n",
    "\n",
    "# Bar width\n",
    "bar_width = 0.4\n",
    "\n",
    "# Plot bars\n",
    "fb_bars = plt.bar(x_axis - 0.2, category_df['facebook'], width=bar_width, label='Facebook', color='#03989e')\n",
    "ad_bars = plt.bar(x_axis + 0.2, category_df['adwords'], width=bar_width, label='AdWords', color='#a62372')\n",
    "\n",
    "# Add value labels on top of each Facebook bar\n",
    "for i, bar in enumerate(fb_bars):\n",
    "    height = bar.get_height()\n",
    "    plt.text(bar.get_x() + bar.get_width()/2., height + 0.5, f'{int(height)}', ha='center', fontsize=10)\n",
    "\n",
    "# Add value labels on top of each AdWords bar\n",
    "for i, bar in enumerate(ad_bars):\n",
    "    height = bar.get_height()\n",
    "    plt.text(bar.get_x() + bar.get_width()/2., height + 0.5, f'{int(height)}', ha='center', fontsize=10)\n",
    "\n",
    "# Set x-tick labels to categories\n",
    "plt.xticks(x_axis,category_df['category'])\n",
    "\n",
    "# Labels and title\n",
    "plt.xlabel(\"Conversion Category\", fontsize=12)\n",
    "plt.ylabel(\"Number of Days\", fontsize=12)\n",
    "plt.title(\"Frequency of Daily Conversion by Category (Facebook vs AdWords)\", fontsize=14)\n",
    "\n",
    "# Show legend\n",
    "plt.legend(fontsize=15)\n"
   ]
  },
  {
   "cell_type": "markdown",
   "id": "50dbd524",
   "metadata": {},
   "source": [
    "\n",
    "* The data suggests Facebook had more frequent higher conversion days than Adwords, which either had very low conversion rate (less than 6) or moderate ones (6-10)\n",
    "* There is a significance variance in the number of high convesrion days between two diff campaigns\n",
    "* The absence of any days with conversions between 10-15 and more than 15 in Adwords indicates a need to review what strategies were changed or what external factors could have influenced these numbers"
   ]
  },
  {
   "cell_type": "markdown",
   "id": "fbd5085e",
   "metadata": {},
   "source": [
    "<h3> Q3. Do more clicks on ad lead to more sales or conversions"
   ]
  },
  {
   "cell_type": "code",
   "execution_count": 23,
   "id": "2a5610f2",
   "metadata": {},
   "outputs": [
    {
     "data": {
      "text/plain": [
       "Text(0, 0.5, 'Conversion')"
      ]
     },
     "execution_count": 23,
     "metadata": {},
     "output_type": "execute_result"
    },
    {
     "data": {
      "image/png": "[encoded data removed]",
      "text/plain": [
       "<Figure size 1500x600 with 2 Axes>"
      ]
     },
     "metadata": {},
     "output_type": "display_data"
    }
   ],
   "source": [
    "plt.figure(figsize=(15,6))\n",
    "\n",
    "plt.subplot(1,2,1)\n",
    "plt.title('Facebook')\n",
    "\n",
    "sns.scatterplot(x=df['Facebook Ad Clicks'], y= df['Facebook Ad Conversions'], color='#38987e')\n",
    "plt.xlabel('Clicks')\n",
    "plt.ylabel('Conversion')\n",
    "\n",
    "plt.subplot(1,2,2)\n",
    "plt.title('Adwords')\n",
    "sns.scatterplot(x=df['AdWords Ad Clicks'], y= df['AdWords Ad Conversions'], color='#38987e')\n",
    "plt.xlabel('Clicks')\n",
    "plt.ylabel('Conversion')\n",
    "\n"
   ]
  },
  {
   "cell_type": "code",
   "execution_count": 24,
   "id": "9c8a7b88",
   "metadata": {},
   "outputs": [
    {
     "data": {
      "text/html": [
       "<div>\n",
       "<style scoped>\n",
       "    .dataframe tbody tr th:only-of-type {\n",
       "        vertical-align: middle;\n",
       "    }\n",
       "\n",
       "    .dataframe tbody tr th {\n",
       "        vertical-align: top;\n",
       "    }\n",
       "\n",
       "    .dataframe thead th {\n",
       "        text-align: right;\n",
       "    }\n",
       "</style>\n",
       "<table border=\"1\" class=\"dataframe\">\n",
       "  <thead>\n",
       "    <tr style=\"text-align: right;\">\n",
       "      <th></th>\n",
       "      <th>Facebook Ad Conversions</th>\n",
       "      <th>Facebook Ad Clicks</th>\n",
       "    </tr>\n",
       "  </thead>\n",
       "  <tbody>\n",
       "    <tr>\n",
       "      <th>Facebook Ad Conversions</th>\n",
       "      <td>1.000000</td>\n",
       "      <td>0.873775</td>\n",
       "    </tr>\n",
       "    <tr>\n",
       "      <th>Facebook Ad Clicks</th>\n",
       "      <td>0.873775</td>\n",
       "      <td>1.000000</td>\n",
       "    </tr>\n",
       "  </tbody>\n",
       "</table>\n",
       "</div>"
      ],
      "text/plain": [
       "                         Facebook Ad Conversions  Facebook Ad Clicks\n",
       "Facebook Ad Conversions                 1.000000            0.873775\n",
       "Facebook Ad Clicks                      0.873775            1.000000"
      ]
     },
     "execution_count": 24,
     "metadata": {},
     "output_type": "execute_result"
    }
   ],
   "source": [
    "fb_corr = df[['Facebook Ad Conversions','Facebook Ad Clicks']].corr()\n",
    "fb_corr"
   ]
  },
  {
   "cell_type": "code",
   "execution_count": 25,
   "id": "034bdb70",
   "metadata": {},
   "outputs": [
    {
     "data": {
      "text/html": [
       "<div>\n",
       "<style scoped>\n",
       "    .dataframe tbody tr th:only-of-type {\n",
       "        vertical-align: middle;\n",
       "    }\n",
       "\n",
       "    .dataframe tbody tr th {\n",
       "        vertical-align: top;\n",
       "    }\n",
       "\n",
       "    .dataframe thead th {\n",
       "        text-align: right;\n",
       "    }\n",
       "</style>\n",
       "<table border=\"1\" class=\"dataframe\">\n",
       "  <thead>\n",
       "    <tr style=\"text-align: right;\">\n",
       "      <th></th>\n",
       "      <th>AdWords Ad Conversions</th>\n",
       "      <th>AdWords Ad Clicks</th>\n",
       "    </tr>\n",
       "  </thead>\n",
       "  <tbody>\n",
       "    <tr>\n",
       "      <th>AdWords Ad Conversions</th>\n",
       "      <td>1.000000</td>\n",
       "      <td>0.447993</td>\n",
       "    </tr>\n",
       "    <tr>\n",
       "      <th>AdWords Ad Clicks</th>\n",
       "      <td>0.447993</td>\n",
       "      <td>1.000000</td>\n",
       "    </tr>\n",
       "  </tbody>\n",
       "</table>\n",
       "</div>"
      ],
      "text/plain": [
       "                        AdWords Ad Conversions  AdWords Ad Clicks\n",
       "AdWords Ad Conversions                1.000000           0.447993\n",
       "AdWords Ad Clicks                     0.447993           1.000000"
      ]
     },
     "execution_count": 25,
     "metadata": {},
     "output_type": "execute_result"
    }
   ],
   "source": [
    "adwords_corr = df[['AdWords Ad Conversions','AdWords Ad Clicks']].corr()\n",
    "adwords_corr\n"
   ]
  },
  {
   "cell_type": "code",
   "execution_count": 26,
   "id": "82664fd5",
   "metadata": {},
   "outputs": [
    {
     "name": "stdout",
     "output_type": "stream",
     "text": [
      "Correlation Coefficient: \n",
      "-------------------\n",
      "Facebbok : 0.87\n",
      "AdWords : 0.45\n"
     ]
    }
   ],
   "source": [
    "print('Correlation Coefficient: \\n-------------------')\n",
    "print('Facebbok :',round(fb_corr.values[0,1],2))\n",
    "print('AdWords :',round(adwords_corr.values[0,1],2))"
   ]
  },
  {
   "cell_type": "markdown",
   "id": "95c29112",
   "metadata": {},
   "source": [
    "- A correlation coefficient of 0.87 indicates a strong positive linear relationship between clicks on Facebook ads and sales. This suggests that as the number of clicks on Facebook ads increases, sales tend to increase as well.\n",
    "- This strong correlation suggests that Facebook ads are highly effective in driving sales, as a large portion of the variation in sales can be explained by the variation in clicks on Facebook ads.\n",
    "- The strong correlation between clicks on Facebook ads and sales suggests that Facebook advertising is highly effective in driving sales for the business. Increasing investment in Facebook ads or optimizing their performance could potentially lead to even higher sales.\n",
    "- A correlation coefficient of 0.45 indicates a moderate positive linear relationship between clicks on AdWords ads and sales. While there is still a positive relationship, it is not as strong as with Facebook ads.\n",
    "- The moderate correlation between clicks on AdWords ads and sales indicates that while AdWords advertising does contribute to sales, its effectiveness may be influenced by other factors. Further analysis is needed to identify these factors and optimize AdWords campaigns accordingly."
   ]
  },
  {
   "cell_type": "markdown",
   "id": "7e6d2b2f",
   "metadata": {},
   "source": [
    "# Hypothesis Testing\n"
   ]
  },
  {
   "cell_type": "markdown",
   "id": "f93d82b9",
   "metadata": {},
   "source": [
    "**Hypothesis:** Advertising on Facebook will result in a greater number of conversions compared to advertising on AdWords.\n",
    "\n",
    "**Null Hypothesis (H0):** There is no difference in the number of conversions between Facebook and AdWords, or the number of conversions from AdWords is greater than or equal to those from Facebook.\n",
    "\n",
    "H0: µ_Facebook ≤ µ_AdWords\n",
    "\n",
    "**Alternate Hypothesis (H1):** The number of conversions from Facebook is greater than the number of conversions from AdWords.\n",
    "\n",
    "H1: µ_Facebook > µ_AdWords"
   ]
  },
  {
   "cell_type": "code",
   "execution_count": 27,
   "id": "52050572",
   "metadata": {},
   "outputs": [
    {
     "name": "stdout",
     "output_type": "stream",
     "text": [
      "Mean Conversion \n",
      "--------------\n",
      "Facebook : 11.74\n",
      "AdWords : 5.98\n",
      "\n",
      "T statistic 32.88402060758184 \n",
      "p-value 9.348918164530465e-134\n",
      "\n",
      "p-value is less than significance value, Reject the null hypothesis\n"
     ]
    }
   ],
   "source": [
    "print('Mean Conversion \\n--------------')\n",
    "print('Facebook :', round(df['Facebook Ad Conversions'].mean(),2))\n",
    "print('AdWords :', round(df['AdWords Ad Conversions'].mean(),2))\n",
    "\n",
    "t_stats, p_value = st.ttest_ind(a = df['Facebook Ad Conversions'], b = df['AdWords Ad Conversions'], equal_var = False)\n",
    "print('\\nT statistic', t_stats, '\\np-value',p_value)\n",
    "\n",
    "# comparing the p value with the significance of 5% or 0.05\n",
    "if p_value < 0.05:\n",
    "    print(\"\\np-value is less than significance value, Reject the null hypothesis\")\n",
    "else:\n",
    "    print(\"\\np-value is greater than significance value, Accept the null hypothesis\")"
   ]
  },
  {
   "cell_type": "markdown",
   "id": "cd75b28f",
   "metadata": {},
   "source": [
    "- The mean number of conversions from Facebook ads (11.74) is substantially higher than the mean number of conversions from AdWords ads (5.98). This suggests that, on average, Facebook advertising is more effective in generating conversions compared to AdWords advertising.\n",
    "- The T statistic (32.88) is a measure of the difference between the means of the two groups relative to the variation within the groups. A larger T statistic indicates a greater difference between the means of the two groups.\n",
    "- The p-value (9.35e-134) is extremely small, indicating strong evidence against the null hypothesis.\n",
    "- The results strongly support the alternate hypothesis, indicating that the number of conversions from Facebook advertising is indeed greater than the number of conversions from AdWords advertising.\n",
    "- Facebook advertising appears to be a more effective channel for generating conversions compared to AdWords advertising, based on the sample data analyzed.\n",
    "- Given the significant difference in conversion rates between Facebook and AdWords, consider reallocating resources towards Facebook advertising efforts. This could involve increasing ad spend, expanding targeting efforts, or experimenting with different ad formats to capitalize on the platform's effectiveness in driving conversions."
   ]
  },
  {
   "cell_type": "markdown",
   "id": "d220d90a",
   "metadata": {},
   "source": [
    "# Regression Analysis"
   ]
  },
  {
   "cell_type": "markdown",
   "id": "dec74220",
   "metadata": {},
   "source": [
    "<h3> Q4. What will happen when I do go with the Facebook Ad? How many facebook ad conversions can I expect given a certain number of facebook ad clicks?"
   ]
  },
  {
   "cell_type": "code",
   "execution_count": 28,
   "id": "39f873a1",
   "metadata": {},
   "outputs": [
    {
     "name": "stdout",
     "output_type": "stream",
     "text": [
      "Accuracy (R2 Score): 76.35 %\n",
      "Mean Squared Error: 2.02\n"
     ]
    }
   ],
   "source": [
    "# independent variable\n",
    "X = df[['Facebook Ad Clicks']]\n",
    "\n",
    "# dependent variable\n",
    "y = df[['Facebook Ad Conversions']]\n",
    "\n",
    "# initializing and fitting Linear Regression model\n",
    "reg_model = LinearRegression()\n",
    "reg_model.fit(X,y)\n",
    "prediction = reg_model.predict(X)\n",
    "\n",
    "# model evaluation\n",
    "r2 = r2_score(y, prediction)*100\n",
    "mse = mean_squared_error(y, prediction)\n",
    "print('Accuracy (R2 Score):',round(r2,2),'%')\n",
    "print('Mean Squared Error:', round(mse,2))"
   ]
  },
  {
   "cell_type": "code",
   "execution_count": 29,
   "id": "057fcd0d",
   "metadata": {},
   "outputs": [
    {
     "data": {
      "image/png": "[encoded data removed]",
      "text/plain": [
       "<Figure size 800x600 with 1 Axes>"
      ]
     },
     "metadata": {},
     "output_type": "display_data"
    }
   ],
   "source": [
    "plt.figure(figsize=(8,6))\n",
    "sns.scatterplot(x = df['Facebook Ad Clicks'],y = df['Facebook Ad Conversions'], color = '#03989E', label = 'Actual data points')\n",
    "plt.plot(df['Facebook Ad Clicks'], prediction, color = '#A62372', label = 'Best fit line')\n",
    "plt.legend()\n",
    "plt.show()"
   ]
  },
  {
   "cell_type": "code",
   "execution_count": 30,
   "id": "fcd63cad",
   "metadata": {},
   "outputs": [
    {
     "name": "stdout",
     "output_type": "stream",
     "text": [
      "For 50 Clicks, Expected Conversion : 13.0\n",
      "For 80 Clicks, Expected Conversion : 19.31\n"
     ]
    }
   ],
   "source": [
    "print(f'For {50} Clicks, Expected Conversion : {round(reg_model.predict([[50]])[0][0],2)}')\n",
    "print(f'For {80} Clicks, Expected Conversion : {round(reg_model.predict([[80]])[0][0],2)}')"
   ]
  },
  {
   "cell_type": "markdown",
   "id": "1ece29b9",
   "metadata": {},
   "source": [
    "* The model has a reasonably good predictive power, with an R2 score of 76.35%. This suggests that it can effectively predict Facebook ad conversions based on the number of Facebook ad clicks.\n",
    "* With the insights provided by the Linear Regression model, businesses can make informed decisions about resource allocation, budget planning, and campaign optimization.\n",
    "* For instance, knowing the expected number of Facebook ad conversions based on a certain number of Facebook ad clicks can help in setting realistic campaign goals, optimizing ad spend, and assessing the ROI of Facebook advertising efforts."
   ]
  },
  {
   "cell_type": "markdown",
   "id": "5307a6ef",
   "metadata": {},
   "source": [
    "<h3> Analyzing Facebook Campaign metrics over time."
   ]
  },
  {
   "cell_type": "code",
   "execution_count": 31,
   "id": "0315eb24",
   "metadata": {},
   "outputs": [],
   "source": [
    "# cleaning data ( removing unwanted symbols from the columns and converting them to numerical columns)\n",
    "df['Facebook Click-Through Rate (Clicks / View)'] = df['Facebook Click-Through Rate (Clicks / View)'].apply(lambda x: float(x[:-1]))\n",
    "df['Facebook Conversion Rate (Conversions / Clicks)'] = df['Facebook Conversion Rate (Conversions / Clicks)'].apply(lambda x: float(x[:-1]))\n",
    "df['Facebook Cost per Click (Ad Cost / Clicks)'] = df['Facebook Cost per Click (Ad Cost / Clicks)'].apply(lambda x: float(x[1:]))\n",
    "df['Cost per Facebook Ad'] = df['Cost per Facebook Ad'].apply(lambda x: float(x[1:]))\n"
   ]
  },
  {
   "cell_type": "code",
   "execution_count": 32,
   "id": "f6ed2f48",
   "metadata": {},
   "outputs": [
    {
     "data": {
      "text/html": [
       "<div>\n",
       "<style scoped>\n",
       "    .dataframe tbody tr th:only-of-type {\n",
       "        vertical-align: middle;\n",
       "    }\n",
       "\n",
       "    .dataframe tbody tr th {\n",
       "        vertical-align: top;\n",
       "    }\n",
       "\n",
       "    .dataframe thead th {\n",
       "        text-align: right;\n",
       "    }\n",
       "</style>\n",
       "<table border=\"1\" class=\"dataframe\">\n",
       "  <thead>\n",
       "    <tr style=\"text-align: right;\">\n",
       "      <th></th>\n",
       "      <th>Date</th>\n",
       "      <th>Facebook Ad Views</th>\n",
       "      <th>Facebook Ad Clicks</th>\n",
       "      <th>Facebook Ad Conversions</th>\n",
       "      <th>Cost per Facebook Ad</th>\n",
       "      <th>Facebook Click-Through Rate (Clicks / View)</th>\n",
       "      <th>Facebook Conversion Rate (Conversions / Clicks)</th>\n",
       "      <th>Facebook Cost per Click (Ad Cost / Clicks)</th>\n",
       "    </tr>\n",
       "  </thead>\n",
       "  <tbody>\n",
       "    <tr>\n",
       "      <th>0</th>\n",
       "      <td>2019-01-01</td>\n",
       "      <td>2116</td>\n",
       "      <td>18</td>\n",
       "      <td>8</td>\n",
       "      <td>126.0</td>\n",
       "      <td>0.83</td>\n",
       "      <td>42.73</td>\n",
       "      <td>7.14</td>\n",
       "    </tr>\n",
       "    <tr>\n",
       "      <th>1</th>\n",
       "      <td>2019-01-02</td>\n",
       "      <td>3106</td>\n",
       "      <td>36</td>\n",
       "      <td>12</td>\n",
       "      <td>104.0</td>\n",
       "      <td>1.15</td>\n",
       "      <td>34.04</td>\n",
       "      <td>2.91</td>\n",
       "    </tr>\n",
       "    <tr>\n",
       "      <th>2</th>\n",
       "      <td>2019-01-03</td>\n",
       "      <td>3105</td>\n",
       "      <td>26</td>\n",
       "      <td>8</td>\n",
       "      <td>102.0</td>\n",
       "      <td>0.84</td>\n",
       "      <td>31.45</td>\n",
       "      <td>3.89</td>\n",
       "    </tr>\n",
       "    <tr>\n",
       "      <th>3</th>\n",
       "      <td>2019-01-04</td>\n",
       "      <td>1107</td>\n",
       "      <td>27</td>\n",
       "      <td>9</td>\n",
       "      <td>71.0</td>\n",
       "      <td>2.45</td>\n",
       "      <td>34.76</td>\n",
       "      <td>2.62</td>\n",
       "    </tr>\n",
       "    <tr>\n",
       "      <th>4</th>\n",
       "      <td>2019-01-05</td>\n",
       "      <td>1317</td>\n",
       "      <td>15</td>\n",
       "      <td>7</td>\n",
       "      <td>78.0</td>\n",
       "      <td>1.10</td>\n",
       "      <td>47.59</td>\n",
       "      <td>5.38</td>\n",
       "    </tr>\n",
       "  </tbody>\n",
       "</table>\n",
       "</div>"
      ],
      "text/plain": [
       "        Date  Facebook Ad Views  Facebook Ad Clicks  Facebook Ad Conversions  \\\n",
       "0 2019-01-01               2116                  18                        8   \n",
       "1 2019-01-02               3106                  36                       12   \n",
       "2 2019-01-03               3105                  26                        8   \n",
       "3 2019-01-04               1107                  27                        9   \n",
       "4 2019-01-05               1317                  15                        7   \n",
       "\n",
       "   Cost per Facebook Ad  Facebook Click-Through Rate (Clicks / View)  \\\n",
       "0                 126.0                                         0.83   \n",
       "1                 104.0                                         1.15   \n",
       "2                 102.0                                         0.84   \n",
       "3                  71.0                                         2.45   \n",
       "4                  78.0                                         1.10   \n",
       "\n",
       "   Facebook Conversion Rate (Conversions / Clicks)  \\\n",
       "0                                            42.73   \n",
       "1                                            34.04   \n",
       "2                                            31.45   \n",
       "3                                            34.76   \n",
       "4                                            47.59   \n",
       "\n",
       "   Facebook Cost per Click (Ad Cost / Clicks)  \n",
       "0                                        7.14  \n",
       "1                                        2.91  \n",
       "2                                        3.89  \n",
       "3                                        2.62  \n",
       "4                                        5.38  "
      ]
     },
     "execution_count": 32,
     "metadata": {},
     "output_type": "execute_result"
    }
   ],
   "source": [
    "# filtering for facebook campaign\n",
    "df = df[['Date','Facebook Ad Views',\n",
    "       'Facebook Ad Clicks', 'Facebook Ad Conversions', 'Cost per Facebook Ad',\n",
    "       'Facebook Click-Through Rate (Clicks / View)',\n",
    "       'Facebook Conversion Rate (Conversions / Clicks)',\n",
    "       'Facebook Cost per Click (Ad Cost / Clicks)']]\n",
    "\n",
    "df.head()"
   ]
  },
  {
   "cell_type": "markdown",
   "id": "fd5efbff",
   "metadata": {},
   "source": [
    "<h3> Q.5 At what times of the month or days of the week do we observe the conversions?"
   ]
  },
  {
   "cell_type": "code",
   "execution_count": 33,
   "id": "6f21ab34",
   "metadata": {},
   "outputs": [],
   "source": [
    "# extracting month and week day from the date column\n",
    "df['month'] = df['Date'].dt.month\n",
    "df['week'] = df['Date'].dt.weekday"
   ]
  },
  {
   "cell_type": "code",
   "execution_count": 34,
   "id": "71312408",
   "metadata": {},
   "outputs": [
    {
     "data": {
      "image/png": "[encoded data removed]",
      "text/plain": [
       "<Figure size 800x500 with 1 Axes>"
      ]
     },
     "metadata": {},
     "output_type": "display_data"
    }
   ],
   "source": [
    "plt.figure(figsize=(8,5))\n",
    "plt.title('Weekly Conversions')\n",
    "weekly_conversion = df.groupby('week')[['Facebook Ad Conversions']].sum()\n",
    "week_names= ['Sunday','Monday','Tuesday','Wednesday','Thursday','Friday','Saturday']\n",
    "plt.bar(week_names, weekly_conversion['Facebook Ad Conversions'], color = '#03989E', edgecolor = 'k')\n",
    "plt.show()"
   ]
  },
  {
   "cell_type": "code",
   "execution_count": 35,
   "id": "913cec6c",
   "metadata": {},
   "outputs": [
    {
     "data": {
      "image/png": "[encoded data removed]",
      "text/plain": [
       "<Figure size 800x500 with 1 Axes>"
      ]
     },
     "metadata": {},
     "output_type": "display_data"
    }
   ],
   "source": [
    "plt.figure(figsize=(8,5))\n",
    "plt.title('Monthly Conversions')\n",
    "monthly_conversion = df.groupby('month')[['Facebook Ad Conversions']].sum()\n",
    "month_names = ['Jan','Feb','Mar','Apr','May','Jun','Jul','Aug','Sep','Oct','Nov','Dec']\n",
    "plt.plot(month_names, monthly_conversion['Facebook Ad Conversions'],'-o', color = '#A62372')\n",
    "plt.show()"
   ]
  },
  {
   "cell_type": "markdown",
   "id": "bad27213",
   "metadata": {},
   "source": [
    "* Across the weekdays over a year, the total number of conversions remains relatively consistent, indicating a consistent level of engagement throughout the week. However, Mondays and Tuesdays consistently exhibit the highest conversion rates compared to other days, suggesting that the beginning of the workweek sees heightened user engagement or responsiveness to marketing efforts.\n",
    "* Examining the monthly trend in conversions reveals an overall upward trajectory, indicating a general increase in conversions over time. However, certain months stand out with variations in conversion rates. February, April, May, June, August, and November experience a decline in conversions compared to neighboring months. These periods of decreased conversion rates could be influenced by factors such as seasonal fluctuations, changes in consumer behavior, or adjustments in marketing strategies."
   ]
  },
  {
   "cell_type": "markdown",
   "id": "5b8bba3b",
   "metadata": {},
   "source": [
    "<h3> Q6. How does the Cost Per Conversion (CPC) trend over time?\n",
    "    \n",
    "---\n",
    "Cost Per Conversion (CPC): This metric is used to evaluate the cost effectiveness and profitability of an online advertising campaign. This metric helps marketers understand how much they are spending to obtain each conversion, allowing them to optimize their spending and targeting strategies effectively."
   ]
  },
  {
   "cell_type": "code",
   "execution_count": 36,
   "id": "4695988d",
   "metadata": {},
   "outputs": [
    {
     "data": {
      "image/png": "[encoded data removed]",
      "text/plain": [
       "<Figure size 800x500 with 1 Axes>"
      ]
     },
     "metadata": {},
     "output_type": "display_data"
    }
   ],
   "source": [
    "plt.figure(figsize=(8,5))\n",
    "plt.title('Monthly Cost Per Conversion (CPC)')\n",
    "monthly_df = df.groupby('month')[['Facebook Ad Conversions','Cost per Facebook Ad']].sum()\n",
    "monthly_df['Cost per Conversion'] = monthly_df['Cost per Facebook Ad']/monthly_df['Facebook Ad Conversions']\n",
    "plt.plot(month_names, monthly_df['Cost per Conversion'],'-o', color = '#A62372')\n",
    "plt.show()"
   ]
  },
  {
   "cell_type": "markdown",
   "id": "a028e2e3",
   "metadata": {},
   "source": [
    "- The CPC trend over the 12-month period shows some fluctuations but overall maintains a relatively stable range.\n",
    "- May and November have the lowest CPC values, indicating potentially more cost-effective advertising or higher conversion rates during these periods.\n",
    "- February has the highest CPC value, suggesting that advertising costs may be relatively higher during this month compared to others.\n",
    "- Lower CPC values in certain months (e.g., May and November) could indicate periods of higher advertising effectiveness or more favorable market conditions.\n",
    "- Consider allocating more advertising budget to months with historically lower CPC values (e.g., May and November) to maximize ROI."
   ]
  },
  {
   "cell_type": "markdown",
   "id": "a9683000",
   "metadata": {},
   "source": [
    "<h3> Q7. Is there a long-term equilibrium relationship between advertising spend and conversion rates that suggests a stable, proportional impact of budget changes on conversions over time?"
   ]
  },
  {
   "cell_type": "code",
   "execution_count": 37,
   "id": "8355fa3a",
   "metadata": {},
   "outputs": [
    {
     "name": "stdout",
     "output_type": "stream",
     "text": [
      "Cointegration test score: -14.755428385103226\n",
      "P-value: 2.1337375979060563e-26\n",
      "\n",
      "p-value is less than significance value, Reject the null hypothesis\n"
     ]
    }
   ],
   "source": [
    "score, p_value, _ = coint(df['Cost per Facebook Ad'], df['Facebook Ad Conversions'])\n",
    "print('Cointegration test score:', score)\n",
    "print('P-value:', p_value)\n",
    "if p_value < 0.05:\n",
    "    print(\"\\np-value is less than significance value, Reject the null hypothesis\")\n",
    "else:\n",
    "    print(\"\\np-value is greater than significance value, Accept the null hypothesis\")"
   ]
  },
  {
   "cell_type": "markdown",
   "id": "caac2ff1",
   "metadata": {},
   "source": [
    "* Since the p-value is significantly lower than the chosen significance level, we reject the null hypothesis. This indicates that there is a long-term equilibrium relationship between advertising spend (cost) and conversions.\n",
    "\n",
    "* Businesses can use this understanding of the stable relationship between cost and conversions to optimize their advertising strategies. By investing in campaigns that demonstrate a strong return on investment (ROI) and adjusting spending based on performance, companies can maximize conversions while minimizing costs."
   ]
  },
  {
   "cell_type": "code",
   "execution_count": null,
   "id": "4994de4e",
   "metadata": {},
   "outputs": [],
   "source": []
  },
  {
   "cell_type": "code",
   "execution_count": null,
   "id": "e81955e0",
   "metadata": {},
   "outputs": [],
   "source": []
  }
 ],
 "metadata": {
  "kernelspec": {
   "display_name": "Python 3 (ipykernel)",
   "language": "python",
   "name": "python3"
  },
  "language_info": {
   "codemirror_mode": {
    "name": "ipython",
    "version": 3
   },
   "file_extension": ".py",
   "mimetype": "text/x-python",
   "name": "python",
   "nbconvert_exporter": "python",
   "pygments_lexer": "ipython3",
   "version": "3.10.9"
  }
 },
 "nbformat": 4,
 "nbformat_minor": 5
}
